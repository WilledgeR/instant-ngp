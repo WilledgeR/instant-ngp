{
 "cells": [
  {
   "cell_type": "code",
   "execution_count": null,
   "metadata": {},
   "outputs": [],
   "source": [
    "!nvidia-smi"
   ]
  },
  {
   "cell_type": "code",
   "execution_count": null,
   "metadata": {},
   "outputs": [],
   "source": [
    "from google.colab import drive\n",
    "drive.mount('/content/drive')"
   ]
  },
  {
   "cell_type": "code",
   "execution_count": null,
   "metadata": {},
   "outputs": [],
   "source": [
    "!cp -r /content/drive/MyDrive/ngp ../instant-ngp"
   ]
  },
  {
   "cell_type": "code",
   "execution_count": null,
   "metadata": {},
   "outputs": [],
   "source": [
    "!apt update && apt install build-essential git python3-dev python3-pip libopenexr-dev libxi-dev libglfw3-dev libglew-dev libomp-dev libxinerama-dev libxcursor-dev\n",
    "!pip install --upgrade cmake\n",
    "!git clone --recursive https://github.com/WilledgeR/instant-ngp.git\n",
    "%cd instant-ngp\n",
    "!pip3 install -r requirements.txt"
   ]
  },
  {
   "cell_type": "code",
   "execution_count": null,
   "metadata": {},
   "outputs": [],
   "source": [
    "#%env TCNN_CUDA_ARCHITECTURES=75\n",
    "!cmake . -B build -DNGP_BUILD_WITH_GUI=OFF\n",
    "!cmake --build build --config RelWithDebInfo -j `nproc`\n",
    "!cp -r ../instant-ngp /content/drive/MyDrive/ngp"
   ]
  },
  {
   "cell_type": "code",
   "execution_count": null,
   "metadata": {},
   "outputs": [],
   "source": [
    "!python3 scripts/run.py --scene data/nerf/fox --mode=nerf --width=256 --height=256 --screenshot_dir=/content/drive/MyDrive/screenshots --save_snapshot=/content/drive/MyDrive/snapshots/snapshot{step}.msgpack --n_steps=100000 --shot_each=1000 --save_each=1000"
   ]
  }
 ],
 "metadata": {
  "language_info": {
   "name": "python"
  },
  "orig_nbformat": 4
 },
 "nbformat": 4,
 "nbformat_minor": 2
}
